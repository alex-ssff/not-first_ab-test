{
 "cells": [
  {
   "cell_type": "markdown",
   "id": "acd5ea44",
   "metadata": {},
   "source": [
    "# Проектная работа \"Приоритизация гипотез. Анализ A/B-теста\""
   ]
  },
  {
   "cell_type": "markdown",
   "id": "e9fbdb74",
   "metadata": {},
   "source": [
    "## Введение"
   ]
  },
  {
   "cell_type": "markdown",
   "id": "0886dc7d",
   "metadata": {},
   "source": [
    "### Описание проекта"
   ]
  },
  {
   "cell_type": "markdown",
   "id": "78339d7e",
   "metadata": {},
   "source": [
    "Отделом маркетинга крупного интернет-магазина подготовилен список гипотез для увеличения выручки. Требуется приоритизировать гипотезы, запустить A/B-тест и проанализировать результаты."
   ]
  },
  {
   "cell_type": "markdown",
   "id": "b36a8125",
   "metadata": {},
   "source": [
    "### Цель проекта"
   ]
  },
  {
   "cell_type": "markdown",
   "id": "937388f5",
   "metadata": {},
   "source": [
    "1. Определить наиболее удачную гипотезу\n",
    "2. Проанализировать итоги A/B-теста"
   ]
  },
  {
   "cell_type": "markdown",
   "id": "0db84a6c",
   "metadata": {},
   "source": [
    "### Ход решения"
   ]
  },
  {
   "cell_type": "markdown",
   "id": "c4f5cf3a",
   "metadata": {},
   "source": [
    "1. Загрузить файлы с данными и подготовить их к анализу.\n",
    "2. Приоритизировать гипотезы\n",
    "3. Проанализировать А/B-тест\n",
    "4. Выводы."
   ]
  },
  {
   "cell_type": "markdown",
   "id": "a71ea75d",
   "metadata": {},
   "source": [
    "### Описание данных"
   ]
  },
  {
   "cell_type": "markdown",
   "id": "b7400e79",
   "metadata": {},
   "source": [
    "Структура /datasets/hypothesis.csv:\n",
    "- Hypothesis — краткое описание гипотезы;\n",
    "- Reach — охват пользователей по 10-балльной шкале;\n",
    "- Impact — влияние на пользователей по 10-балльной шкале;\n",
    "- Confidence — уверенность в гипотезе по 10-балльной шкале;\n",
    "- Efforts — затраты ресурсов на проверку гипотезы по 10-балльной шкале.\n",
    "\n",
    "Структура /datasets/orders.csv:  \n",
    "- transactionId — идентификатор заказа;\n",
    "- visitorId — идентификатор пользователя, совершившего заказ;\n",
    "- date — дата, когда был совершён заказ;\n",
    "- revenue — выручка заказа;\n",
    "- group — группа A/B-теста, в которую попал заказ.\n",
    "\n",
    "Структура /datasets/visitors.csv:\n",
    "- date — дата;\n",
    "- group — группа A/B-теста;\n",
    "- visitors — количество пользователей в указанную дату в указанной группе A/B-теста"
   ]
  },
  {
   "cell_type": "markdown",
   "id": "8c1ca6b4",
   "metadata": {},
   "source": [
    "## Изучение и подготовка данных"
   ]
  },
  {
   "cell_type": "markdown",
   "id": "fb801d93",
   "metadata": {},
   "source": [
    "### Обзор данных о гипотезах, заказах и визитах"
   ]
  },
  {
   "cell_type": "code",
   "execution_count": 1,
   "id": "a51f305b",
   "metadata": {},
   "outputs": [],
   "source": [
    "import pandas as pd\n",
    "import datetime as dt\n",
    "import numpy as np\n",
    "import matplotlib.pyplot as plt\n",
    "import scipy.stats as stats"
   ]
  },
  {
   "cell_type": "code",
   "execution_count": 2,
   "id": "1fca3d77",
   "metadata": {},
   "outputs": [],
   "source": [
    "try:\n",
    "    hypothesis, orders, visitors = (\n",
    "        pd.read_csv('/datasets/hypothesis.csv'),\n",
    "        pd.read_csv('/datasets/orders.csv'),\n",
    "        pd.read_csv('/datasets/visitors.csv'),\n",
    "    )\n",
    "except FileNotFoundError:\n",
    "    hypothesis, orders, visitors = (\n",
    "        pd.read_csv('hypothesis.csv'),\n",
    "        pd.read_csv('orders.csv'),\n",
    "        pd.read_csv('visitors.csv'),\n",
    "    )\n",
    "except:\n",
    "    print('Проверьте путь к файлу')"
   ]
  },
  {
   "cell_type": "code",
   "execution_count": 3,
   "id": "fcb2a590",
   "metadata": {},
   "outputs": [
    {
     "data": {
      "text/html": [
       "<div>\n",
       "<style scoped>\n",
       "    .dataframe tbody tr th:only-of-type {\n",
       "        vertical-align: middle;\n",
       "    }\n",
       "\n",
       "    .dataframe tbody tr th {\n",
       "        vertical-align: top;\n",
       "    }\n",
       "\n",
       "    .dataframe thead th {\n",
       "        text-align: right;\n",
       "    }\n",
       "</style>\n",
       "<table border=\"1\" class=\"dataframe\">\n",
       "  <thead>\n",
       "    <tr style=\"text-align: right;\">\n",
       "      <th></th>\n",
       "      <th>Hypothesis</th>\n",
       "      <th>Reach</th>\n",
       "      <th>Impact</th>\n",
       "      <th>Confidence</th>\n",
       "      <th>Efforts</th>\n",
       "    </tr>\n",
       "  </thead>\n",
       "  <tbody>\n",
       "    <tr>\n",
       "      <th>0</th>\n",
       "      <td>Добавить два новых канала привлечения трафика,...</td>\n",
       "      <td>3</td>\n",
       "      <td>10</td>\n",
       "      <td>8</td>\n",
       "      <td>6</td>\n",
       "    </tr>\n",
       "    <tr>\n",
       "      <th>1</th>\n",
       "      <td>Запустить собственную службу доставки, что сок...</td>\n",
       "      <td>2</td>\n",
       "      <td>5</td>\n",
       "      <td>4</td>\n",
       "      <td>10</td>\n",
       "    </tr>\n",
       "    <tr>\n",
       "      <th>2</th>\n",
       "      <td>Добавить блоки рекомендаций товаров на сайт ин...</td>\n",
       "      <td>8</td>\n",
       "      <td>3</td>\n",
       "      <td>7</td>\n",
       "      <td>3</td>\n",
       "    </tr>\n",
       "    <tr>\n",
       "      <th>3</th>\n",
       "      <td>Изменить структура категорий, что увеличит кон...</td>\n",
       "      <td>8</td>\n",
       "      <td>3</td>\n",
       "      <td>3</td>\n",
       "      <td>8</td>\n",
       "    </tr>\n",
       "    <tr>\n",
       "      <th>4</th>\n",
       "      <td>Изменить цвет фона главной страницы, чтобы уве...</td>\n",
       "      <td>3</td>\n",
       "      <td>1</td>\n",
       "      <td>1</td>\n",
       "      <td>1</td>\n",
       "    </tr>\n",
       "    <tr>\n",
       "      <th>5</th>\n",
       "      <td>Добавить страницу отзывов клиентов о магазине,...</td>\n",
       "      <td>3</td>\n",
       "      <td>2</td>\n",
       "      <td>2</td>\n",
       "      <td>3</td>\n",
       "    </tr>\n",
       "    <tr>\n",
       "      <th>6</th>\n",
       "      <td>Показать на главной странице баннеры с актуаль...</td>\n",
       "      <td>5</td>\n",
       "      <td>3</td>\n",
       "      <td>8</td>\n",
       "      <td>3</td>\n",
       "    </tr>\n",
       "    <tr>\n",
       "      <th>7</th>\n",
       "      <td>Добавить форму подписки на все основные страни...</td>\n",
       "      <td>10</td>\n",
       "      <td>7</td>\n",
       "      <td>8</td>\n",
       "      <td>5</td>\n",
       "    </tr>\n",
       "    <tr>\n",
       "      <th>8</th>\n",
       "      <td>Запустить акцию, дающую скидку на товар в день...</td>\n",
       "      <td>1</td>\n",
       "      <td>9</td>\n",
       "      <td>9</td>\n",
       "      <td>5</td>\n",
       "    </tr>\n",
       "  </tbody>\n",
       "</table>\n",
       "</div>"
      ],
      "text/plain": [
       "                                          Hypothesis  Reach  Impact  \\\n",
       "0  Добавить два новых канала привлечения трафика,...      3      10   \n",
       "1  Запустить собственную службу доставки, что сок...      2       5   \n",
       "2  Добавить блоки рекомендаций товаров на сайт ин...      8       3   \n",
       "3  Изменить структура категорий, что увеличит кон...      8       3   \n",
       "4  Изменить цвет фона главной страницы, чтобы уве...      3       1   \n",
       "5  Добавить страницу отзывов клиентов о магазине,...      3       2   \n",
       "6  Показать на главной странице баннеры с актуаль...      5       3   \n",
       "7  Добавить форму подписки на все основные страни...     10       7   \n",
       "8  Запустить акцию, дающую скидку на товар в день...      1       9   \n",
       "\n",
       "   Confidence  Efforts  \n",
       "0           8        6  \n",
       "1           4       10  \n",
       "2           7        3  \n",
       "3           3        8  \n",
       "4           1        1  \n",
       "5           2        3  \n",
       "6           8        3  \n",
       "7           8        5  \n",
       "8           9        5  "
      ]
     },
     "metadata": {},
     "output_type": "display_data"
    },
    {
     "name": "stdout",
     "output_type": "stream",
     "text": [
      "<class 'pandas.core.frame.DataFrame'>\n",
      "RangeIndex: 9 entries, 0 to 8\n",
      "Data columns (total 5 columns):\n",
      " #   Column      Non-Null Count  Dtype \n",
      "---  ------      --------------  ----- \n",
      " 0   Hypothesis  9 non-null      object\n",
      " 1   Reach       9 non-null      int64 \n",
      " 2   Impact      9 non-null      int64 \n",
      " 3   Confidence  9 non-null      int64 \n",
      " 4   Efforts     9 non-null      int64 \n",
      "dtypes: int64(4), object(1)\n",
      "memory usage: 488.0+ bytes\n",
      "Количество дубликатов: 0\n"
     ]
    },
    {
     "data": {
      "text/html": [
       "<div>\n",
       "<style scoped>\n",
       "    .dataframe tbody tr th:only-of-type {\n",
       "        vertical-align: middle;\n",
       "    }\n",
       "\n",
       "    .dataframe tbody tr th {\n",
       "        vertical-align: top;\n",
       "    }\n",
       "\n",
       "    .dataframe thead th {\n",
       "        text-align: right;\n",
       "    }\n",
       "</style>\n",
       "<table border=\"1\" class=\"dataframe\">\n",
       "  <thead>\n",
       "    <tr style=\"text-align: right;\">\n",
       "      <th></th>\n",
       "      <th>transactionId</th>\n",
       "      <th>visitorId</th>\n",
       "      <th>date</th>\n",
       "      <th>revenue</th>\n",
       "      <th>group</th>\n",
       "    </tr>\n",
       "  </thead>\n",
       "  <tbody>\n",
       "    <tr>\n",
       "      <th>0</th>\n",
       "      <td>3667963787</td>\n",
       "      <td>3312258926</td>\n",
       "      <td>2019-08-15</td>\n",
       "      <td>1650</td>\n",
       "      <td>B</td>\n",
       "    </tr>\n",
       "    <tr>\n",
       "      <th>1</th>\n",
       "      <td>2804400009</td>\n",
       "      <td>3642806036</td>\n",
       "      <td>2019-08-15</td>\n",
       "      <td>730</td>\n",
       "      <td>B</td>\n",
       "    </tr>\n",
       "    <tr>\n",
       "      <th>2</th>\n",
       "      <td>2961555356</td>\n",
       "      <td>4069496402</td>\n",
       "      <td>2019-08-15</td>\n",
       "      <td>400</td>\n",
       "      <td>A</td>\n",
       "    </tr>\n",
       "    <tr>\n",
       "      <th>3</th>\n",
       "      <td>3797467345</td>\n",
       "      <td>1196621759</td>\n",
       "      <td>2019-08-15</td>\n",
       "      <td>9759</td>\n",
       "      <td>B</td>\n",
       "    </tr>\n",
       "    <tr>\n",
       "      <th>4</th>\n",
       "      <td>2282983706</td>\n",
       "      <td>2322279887</td>\n",
       "      <td>2019-08-15</td>\n",
       "      <td>2308</td>\n",
       "      <td>B</td>\n",
       "    </tr>\n",
       "    <tr>\n",
       "      <th>5</th>\n",
       "      <td>182168103</td>\n",
       "      <td>935554773</td>\n",
       "      <td>2019-08-15</td>\n",
       "      <td>2210</td>\n",
       "      <td>B</td>\n",
       "    </tr>\n",
       "    <tr>\n",
       "      <th>6</th>\n",
       "      <td>398296753</td>\n",
       "      <td>2900797465</td>\n",
       "      <td>2019-08-15</td>\n",
       "      <td>1860</td>\n",
       "      <td>B</td>\n",
       "    </tr>\n",
       "    <tr>\n",
       "      <th>7</th>\n",
       "      <td>2626614568</td>\n",
       "      <td>78758296</td>\n",
       "      <td>2019-08-15</td>\n",
       "      <td>1044</td>\n",
       "      <td>A</td>\n",
       "    </tr>\n",
       "    <tr>\n",
       "      <th>8</th>\n",
       "      <td>1576988021</td>\n",
       "      <td>295230930</td>\n",
       "      <td>2019-08-15</td>\n",
       "      <td>13710</td>\n",
       "      <td>A</td>\n",
       "    </tr>\n",
       "    <tr>\n",
       "      <th>9</th>\n",
       "      <td>1506739906</td>\n",
       "      <td>1882260405</td>\n",
       "      <td>2019-08-15</td>\n",
       "      <td>1855</td>\n",
       "      <td>B</td>\n",
       "    </tr>\n",
       "  </tbody>\n",
       "</table>\n",
       "</div>"
      ],
      "text/plain": [
       "   transactionId   visitorId        date  revenue group\n",
       "0     3667963787  3312258926  2019-08-15     1650     B\n",
       "1     2804400009  3642806036  2019-08-15      730     B\n",
       "2     2961555356  4069496402  2019-08-15      400     A\n",
       "3     3797467345  1196621759  2019-08-15     9759     B\n",
       "4     2282983706  2322279887  2019-08-15     2308     B\n",
       "5      182168103   935554773  2019-08-15     2210     B\n",
       "6      398296753  2900797465  2019-08-15     1860     B\n",
       "7     2626614568    78758296  2019-08-15     1044     A\n",
       "8     1576988021   295230930  2019-08-15    13710     A\n",
       "9     1506739906  1882260405  2019-08-15     1855     B"
      ]
     },
     "metadata": {},
     "output_type": "display_data"
    },
    {
     "name": "stdout",
     "output_type": "stream",
     "text": [
      "<class 'pandas.core.frame.DataFrame'>\n",
      "RangeIndex: 1197 entries, 0 to 1196\n",
      "Data columns (total 5 columns):\n",
      " #   Column         Non-Null Count  Dtype \n",
      "---  ------         --------------  ----- \n",
      " 0   transactionId  1197 non-null   int64 \n",
      " 1   visitorId      1197 non-null   int64 \n",
      " 2   date           1197 non-null   object\n",
      " 3   revenue        1197 non-null   int64 \n",
      " 4   group          1197 non-null   object\n",
      "dtypes: int64(3), object(2)\n",
      "memory usage: 46.9+ KB\n",
      "Количество дубликатов: 0\n"
     ]
    },
    {
     "data": {
      "text/html": [
       "<div>\n",
       "<style scoped>\n",
       "    .dataframe tbody tr th:only-of-type {\n",
       "        vertical-align: middle;\n",
       "    }\n",
       "\n",
       "    .dataframe tbody tr th {\n",
       "        vertical-align: top;\n",
       "    }\n",
       "\n",
       "    .dataframe thead th {\n",
       "        text-align: right;\n",
       "    }\n",
       "</style>\n",
       "<table border=\"1\" class=\"dataframe\">\n",
       "  <thead>\n",
       "    <tr style=\"text-align: right;\">\n",
       "      <th></th>\n",
       "      <th>date</th>\n",
       "      <th>group</th>\n",
       "      <th>visitors</th>\n",
       "    </tr>\n",
       "  </thead>\n",
       "  <tbody>\n",
       "    <tr>\n",
       "      <th>0</th>\n",
       "      <td>2019-08-01</td>\n",
       "      <td>A</td>\n",
       "      <td>719</td>\n",
       "    </tr>\n",
       "    <tr>\n",
       "      <th>1</th>\n",
       "      <td>2019-08-02</td>\n",
       "      <td>A</td>\n",
       "      <td>619</td>\n",
       "    </tr>\n",
       "    <tr>\n",
       "      <th>2</th>\n",
       "      <td>2019-08-03</td>\n",
       "      <td>A</td>\n",
       "      <td>507</td>\n",
       "    </tr>\n",
       "    <tr>\n",
       "      <th>3</th>\n",
       "      <td>2019-08-04</td>\n",
       "      <td>A</td>\n",
       "      <td>717</td>\n",
       "    </tr>\n",
       "    <tr>\n",
       "      <th>4</th>\n",
       "      <td>2019-08-05</td>\n",
       "      <td>A</td>\n",
       "      <td>756</td>\n",
       "    </tr>\n",
       "    <tr>\n",
       "      <th>5</th>\n",
       "      <td>2019-08-06</td>\n",
       "      <td>A</td>\n",
       "      <td>667</td>\n",
       "    </tr>\n",
       "    <tr>\n",
       "      <th>6</th>\n",
       "      <td>2019-08-07</td>\n",
       "      <td>A</td>\n",
       "      <td>644</td>\n",
       "    </tr>\n",
       "    <tr>\n",
       "      <th>7</th>\n",
       "      <td>2019-08-08</td>\n",
       "      <td>A</td>\n",
       "      <td>610</td>\n",
       "    </tr>\n",
       "    <tr>\n",
       "      <th>8</th>\n",
       "      <td>2019-08-09</td>\n",
       "      <td>A</td>\n",
       "      <td>617</td>\n",
       "    </tr>\n",
       "    <tr>\n",
       "      <th>9</th>\n",
       "      <td>2019-08-10</td>\n",
       "      <td>A</td>\n",
       "      <td>406</td>\n",
       "    </tr>\n",
       "  </tbody>\n",
       "</table>\n",
       "</div>"
      ],
      "text/plain": [
       "         date group  visitors\n",
       "0  2019-08-01     A       719\n",
       "1  2019-08-02     A       619\n",
       "2  2019-08-03     A       507\n",
       "3  2019-08-04     A       717\n",
       "4  2019-08-05     A       756\n",
       "5  2019-08-06     A       667\n",
       "6  2019-08-07     A       644\n",
       "7  2019-08-08     A       610\n",
       "8  2019-08-09     A       617\n",
       "9  2019-08-10     A       406"
      ]
     },
     "metadata": {},
     "output_type": "display_data"
    },
    {
     "name": "stdout",
     "output_type": "stream",
     "text": [
      "<class 'pandas.core.frame.DataFrame'>\n",
      "RangeIndex: 62 entries, 0 to 61\n",
      "Data columns (total 3 columns):\n",
      " #   Column    Non-Null Count  Dtype \n",
      "---  ------    --------------  ----- \n",
      " 0   date      62 non-null     object\n",
      " 1   group     62 non-null     object\n",
      " 2   visitors  62 non-null     int64 \n",
      "dtypes: int64(1), object(2)\n",
      "memory usage: 1.6+ KB\n",
      "Количество дубликатов: 0\n"
     ]
    }
   ],
   "source": [
    "for df in (hypothesis, orders, visitors):\n",
    "    display(df.head(10))\n",
    "    df.info()\n",
    "    print('Количество дубликатов:', df.duplicated().sum())"
   ]
  },
  {
   "cell_type": "markdown",
   "id": "94c885f7",
   "metadata": {},
   "source": [
    "В данных отсутствуют дубликаты и пропуски. В названиях столбцов присутсвуют заглавные буквы и верблюжья нотация. Даты записаны в формате object.\n",
    "\n",
    "Проверим, что в столбцах 'group' всего два варианта:"
   ]
  },
  {
   "cell_type": "code",
   "execution_count": 4,
   "id": "66a3a841",
   "metadata": {},
   "outputs": [
    {
     "name": "stdout",
     "output_type": "stream",
     "text": [
      "['B' 'A']\n",
      "['A' 'B']\n"
     ]
    }
   ],
   "source": [
    "print(orders['group'].unique())\n",
    "print(visitors['group'].unique())"
   ]
  },
  {
   "cell_type": "markdown",
   "id": "100a56e8",
   "metadata": {},
   "source": [
    "### Предобработка данных"
   ]
  },
  {
   "cell_type": "code",
   "execution_count": 5,
   "id": "33cdad3f",
   "metadata": {},
   "outputs": [],
   "source": [
    "#Приведем названия столбцов в корректный вид\n",
    "hypothesis.columns = hypothesis.columns.str.lower()\n",
    "orders.rename(columns={\"transactionId\":\"transaction_id\", \n",
    "                   \"visitorId\":\"visitor_id\"} ,inplace=True)"
   ]
  },
  {
   "cell_type": "code",
   "execution_count": 6,
   "id": "cbbdc438",
   "metadata": {},
   "outputs": [
    {
     "name": "stderr",
     "output_type": "stream",
     "text": [
      "C:\\Users\\User\\AppData\\Local\\Temp\\ipykernel_14604\\3055692493.py:2: FutureWarning: The pandas.datetime class is deprecated and will be removed from pandas in a future version. Import from datetime module instead.\n",
      "  orders['date'] = orders['date'].map(lambda x: pd.datetime.strptime(x, '%Y-%m-%d'))\n",
      "C:\\Users\\User\\AppData\\Local\\Temp\\ipykernel_14604\\3055692493.py:3: FutureWarning: The pandas.datetime class is deprecated and will be removed from pandas in a future version. Import from datetime module instead.\n",
      "  visitors['date'] = visitors['date'].map(lambda x: pd.datetime.strptime(x, '%Y-%m-%d'))\n"
     ]
    }
   ],
   "source": [
    "#Изменим тип данных для столбцов \"date\"\n",
    "orders['date'] = orders['date'].map(lambda x: pd.datetime.strptime(x, '%Y-%m-%d'))\n",
    "visitors['date'] = visitors['date'].map(lambda x: pd.datetime.strptime(x, '%Y-%m-%d'))"
   ]
  },
  {
   "cell_type": "code",
   "execution_count": 7,
   "id": "d93c77e1",
   "metadata": {},
   "outputs": [
    {
     "name": "stdout",
     "output_type": "stream",
     "text": [
      "Количество пользователей, попавших в обе группы А/B-теста: 58\n"
     ]
    }
   ],
   "source": [
    "#Проверим нет ли пользователей, которые попали в обе группы A/B-теста\n",
    "unique_a_list = orders.query('group == \"A\"')['visitor_id'].unique()\n",
    "unique_b_list = orders.query('group == \"B\"')['visitor_id'].unique()\n",
    "\n",
    "ab_users = []\n",
    "for x in unique_a_list:\n",
    "    if x in unique_b_list:\n",
    "        ab_users.append(x)\n",
    "     \n",
    "print('Количество пользователей, попавших в обе группы А/B-теста:',len(ab_users))"
   ]
  },
  {
   "cell_type": "markdown",
   "id": "fbd52b29",
   "metadata": {},
   "source": [
    "Для чистоты теста удалим этих пользователей."
   ]
  },
  {
   "cell_type": "code",
   "execution_count": 8,
   "id": "d4c12e68",
   "metadata": {},
   "outputs": [
    {
     "name": "stdout",
     "output_type": "stream",
     "text": [
      "         date group  visitors\n",
      "0  2019-08-01     A       715\n",
      "1  2019-08-02     A       617\n",
      "2  2019-08-03     A       505\n",
      "3  2019-08-04     A       712\n",
      "4  2019-08-05     A       752\n",
      "..        ...   ...       ...\n",
      "57 2019-08-27     B       711\n",
      "58 2019-08-28     B       647\n",
      "59 2019-08-29     B       524\n",
      "60 2019-08-30     B       487\n",
      "61 2019-08-31     B       713\n",
      "\n",
      "[62 rows x 3 columns]\n",
      "<class 'pandas.core.frame.DataFrame'>\n",
      "Int64Index: 1016 entries, 0 to 1196\n",
      "Data columns (total 5 columns):\n",
      " #   Column          Non-Null Count  Dtype         \n",
      "---  ------          --------------  -----         \n",
      " 0   transaction_id  1016 non-null   int64         \n",
      " 1   visitor_id      1016 non-null   int64         \n",
      " 2   date            1016 non-null   datetime64[ns]\n",
      " 3   revenue         1016 non-null   int64         \n",
      " 4   group           1016 non-null   object        \n",
      "dtypes: datetime64[ns](1), int64(3), object(1)\n",
      "memory usage: 47.6+ KB\n"
     ]
    }
   ],
   "source": [
    "#Определим в какие дни \"неправильные\" пользователи делалил заказы.\n",
    "#Это нужно для определения сколько исключить просмотров в таблице visitors\n",
    "ab_orders = orders.query('visitor_id in @ab_users')\n",
    "ab_orders_per_date = ab_orders.groupby('date').agg({'visitor_id':'nunique'})\n",
    "ab_orders_per_date.columns = ['wrong_visitors']\n",
    "\n",
    "\n",
    "visitors = visitors.merge(ab_orders_per_date, left_on='date', right_on='date', how = 'left')\n",
    "visitors['true_visitors'] = visitors['visitors'] - visitors['wrong_visitors']\n",
    "visitors = visitors.drop(columns =['visitors','wrong_visitors']).rename(columns={\"true_visitors\":\"visitors\"})\n",
    "print(visitors)\n",
    "\n",
    "orders = orders.query('visitor_id not in @ab_users')\n",
    "orders.info()"
   ]
  },
  {
   "cell_type": "markdown",
   "id": "700cfdb4",
   "metadata": {},
   "source": [
    "Столбцы записаны правильно, столбцы 'date' переведены в формат datetime. Из таблиц orders и visitors исключено влияние пользователей, попавших в обе группы A/B-теста. Можно переходить к первой части \"Приоритизация гипотез\""
   ]
  },
  {
   "cell_type": "markdown",
   "id": "39833174",
   "metadata": {},
   "source": [
    "## Приоритизация гипотез"
   ]
  },
  {
   "cell_type": "markdown",
   "id": "72b01457",
   "metadata": {},
   "source": [
    "### Фреймфорк ICE для приоритизации гипотез"
   ]
  },
  {
   "cell_type": "code",
   "execution_count": 9,
   "id": "11e0da4a",
   "metadata": {},
   "outputs": [
    {
     "data": {
      "text/html": [
       "<div>\n",
       "<style scoped>\n",
       "    .dataframe tbody tr th:only-of-type {\n",
       "        vertical-align: middle;\n",
       "    }\n",
       "\n",
       "    .dataframe tbody tr th {\n",
       "        vertical-align: top;\n",
       "    }\n",
       "\n",
       "    .dataframe thead th {\n",
       "        text-align: right;\n",
       "    }\n",
       "</style>\n",
       "<table border=\"1\" class=\"dataframe\">\n",
       "  <thead>\n",
       "    <tr style=\"text-align: right;\">\n",
       "      <th></th>\n",
       "      <th>hypothesis</th>\n",
       "      <th>ice</th>\n",
       "    </tr>\n",
       "  </thead>\n",
       "  <tbody>\n",
       "    <tr>\n",
       "      <th>8</th>\n",
       "      <td>Запустить акцию, дающую скидку на товар в день рождения</td>\n",
       "      <td>16.200000</td>\n",
       "    </tr>\n",
       "    <tr>\n",
       "      <th>0</th>\n",
       "      <td>Добавить два новых канала привлечения трафика, что позволит привлекать на 30% больше пользователей</td>\n",
       "      <td>13.333333</td>\n",
       "    </tr>\n",
       "    <tr>\n",
       "      <th>7</th>\n",
       "      <td>Добавить форму подписки на все основные страницы, чтобы собрать базу клиентов для email-рассылок</td>\n",
       "      <td>11.200000</td>\n",
       "    </tr>\n",
       "    <tr>\n",
       "      <th>6</th>\n",
       "      <td>Показать на главной странице баннеры с актуальными акциями и распродажами, чтобы увеличить конверсию</td>\n",
       "      <td>8.000000</td>\n",
       "    </tr>\n",
       "    <tr>\n",
       "      <th>2</th>\n",
       "      <td>Добавить блоки рекомендаций товаров на сайт интернет магазина, чтобы повысить конверсию и средний чек заказа</td>\n",
       "      <td>7.000000</td>\n",
       "    </tr>\n",
       "    <tr>\n",
       "      <th>1</th>\n",
       "      <td>Запустить собственную службу доставки, что сократит срок доставки заказов</td>\n",
       "      <td>2.000000</td>\n",
       "    </tr>\n",
       "    <tr>\n",
       "      <th>5</th>\n",
       "      <td>Добавить страницу отзывов клиентов о магазине, что позволит увеличить количество заказов</td>\n",
       "      <td>1.333333</td>\n",
       "    </tr>\n",
       "    <tr>\n",
       "      <th>3</th>\n",
       "      <td>Изменить структура категорий, что увеличит конверсию, т.к. пользователи быстрее найдут нужный товар</td>\n",
       "      <td>1.125000</td>\n",
       "    </tr>\n",
       "    <tr>\n",
       "      <th>4</th>\n",
       "      <td>Изменить цвет фона главной страницы, чтобы увеличить вовлеченность пользователей</td>\n",
       "      <td>1.000000</td>\n",
       "    </tr>\n",
       "  </tbody>\n",
       "</table>\n",
       "</div>"
      ],
      "text/plain": [
       "                                                                                                     hypothesis  \\\n",
       "8                                                       Запустить акцию, дающую скидку на товар в день рождения   \n",
       "0            Добавить два новых канала привлечения трафика, что позволит привлекать на 30% больше пользователей   \n",
       "7              Добавить форму подписки на все основные страницы, чтобы собрать базу клиентов для email-рассылок   \n",
       "6          Показать на главной странице баннеры с актуальными акциями и распродажами, чтобы увеличить конверсию   \n",
       "2  Добавить блоки рекомендаций товаров на сайт интернет магазина, чтобы повысить конверсию и средний чек заказа   \n",
       "1                                     Запустить собственную службу доставки, что сократит срок доставки заказов   \n",
       "5                      Добавить страницу отзывов клиентов о магазине, что позволит увеличить количество заказов   \n",
       "3           Изменить структура категорий, что увеличит конверсию, т.к. пользователи быстрее найдут нужный товар   \n",
       "4                              Изменить цвет фона главной страницы, чтобы увеличить вовлеченность пользователей   \n",
       "\n",
       "         ice  \n",
       "8  16.200000  \n",
       "0  13.333333  \n",
       "7  11.200000  \n",
       "6   8.000000  \n",
       "2   7.000000  \n",
       "1   2.000000  \n",
       "5   1.333333  \n",
       "3   1.125000  \n",
       "4   1.000000  "
      ]
     },
     "execution_count": 9,
     "metadata": {},
     "output_type": "execute_result"
    }
   ],
   "source": [
    "pd.options.display.max_colwidth = 210\n",
    "hypothesis['ice'] = (\n",
    "    hypothesis['impact']*hypothesis['confidence']/hypothesis['efforts']\n",
    ")\n",
    "hypothesis[['hypothesis','ice']].sort_values(by='ice',ascending = False)"
   ]
  },
  {
   "cell_type": "markdown",
   "id": "876791ac",
   "metadata": {},
   "source": [
    "В топ-3 вошли гипотезы с индексами 8, 0, 7."
   ]
  },
  {
   "cell_type": "markdown",
   "id": "f67418c4",
   "metadata": {},
   "source": [
    "### Фреймфорк RICE для приоритизации гипотез"
   ]
  },
  {
   "cell_type": "code",
   "execution_count": 10,
   "id": "1301712e",
   "metadata": {},
   "outputs": [
    {
     "data": {
      "text/html": [
       "<div>\n",
       "<style scoped>\n",
       "    .dataframe tbody tr th:only-of-type {\n",
       "        vertical-align: middle;\n",
       "    }\n",
       "\n",
       "    .dataframe tbody tr th {\n",
       "        vertical-align: top;\n",
       "    }\n",
       "\n",
       "    .dataframe thead th {\n",
       "        text-align: right;\n",
       "    }\n",
       "</style>\n",
       "<table border=\"1\" class=\"dataframe\">\n",
       "  <thead>\n",
       "    <tr style=\"text-align: right;\">\n",
       "      <th></th>\n",
       "      <th>hypothesis</th>\n",
       "      <th>rice</th>\n",
       "    </tr>\n",
       "  </thead>\n",
       "  <tbody>\n",
       "    <tr>\n",
       "      <th>7</th>\n",
       "      <td>Добавить форму подписки на все основные страницы, чтобы собрать базу клиентов для email-рассылок</td>\n",
       "      <td>112.0</td>\n",
       "    </tr>\n",
       "    <tr>\n",
       "      <th>2</th>\n",
       "      <td>Добавить блоки рекомендаций товаров на сайт интернет магазина, чтобы повысить конверсию и средний чек заказа</td>\n",
       "      <td>56.0</td>\n",
       "    </tr>\n",
       "    <tr>\n",
       "      <th>0</th>\n",
       "      <td>Добавить два новых канала привлечения трафика, что позволит привлекать на 30% больше пользователей</td>\n",
       "      <td>40.0</td>\n",
       "    </tr>\n",
       "    <tr>\n",
       "      <th>6</th>\n",
       "      <td>Показать на главной странице баннеры с актуальными акциями и распродажами, чтобы увеличить конверсию</td>\n",
       "      <td>40.0</td>\n",
       "    </tr>\n",
       "    <tr>\n",
       "      <th>8</th>\n",
       "      <td>Запустить акцию, дающую скидку на товар в день рождения</td>\n",
       "      <td>16.2</td>\n",
       "    </tr>\n",
       "    <tr>\n",
       "      <th>3</th>\n",
       "      <td>Изменить структура категорий, что увеличит конверсию, т.к. пользователи быстрее найдут нужный товар</td>\n",
       "      <td>9.0</td>\n",
       "    </tr>\n",
       "    <tr>\n",
       "      <th>1</th>\n",
       "      <td>Запустить собственную службу доставки, что сократит срок доставки заказов</td>\n",
       "      <td>4.0</td>\n",
       "    </tr>\n",
       "    <tr>\n",
       "      <th>5</th>\n",
       "      <td>Добавить страницу отзывов клиентов о магазине, что позволит увеличить количество заказов</td>\n",
       "      <td>4.0</td>\n",
       "    </tr>\n",
       "    <tr>\n",
       "      <th>4</th>\n",
       "      <td>Изменить цвет фона главной страницы, чтобы увеличить вовлеченность пользователей</td>\n",
       "      <td>3.0</td>\n",
       "    </tr>\n",
       "  </tbody>\n",
       "</table>\n",
       "</div>"
      ],
      "text/plain": [
       "                                                                                                     hypothesis  \\\n",
       "7              Добавить форму подписки на все основные страницы, чтобы собрать базу клиентов для email-рассылок   \n",
       "2  Добавить блоки рекомендаций товаров на сайт интернет магазина, чтобы повысить конверсию и средний чек заказа   \n",
       "0            Добавить два новых канала привлечения трафика, что позволит привлекать на 30% больше пользователей   \n",
       "6          Показать на главной странице баннеры с актуальными акциями и распродажами, чтобы увеличить конверсию   \n",
       "8                                                       Запустить акцию, дающую скидку на товар в день рождения   \n",
       "3           Изменить структура категорий, что увеличит конверсию, т.к. пользователи быстрее найдут нужный товар   \n",
       "1                                     Запустить собственную службу доставки, что сократит срок доставки заказов   \n",
       "5                      Добавить страницу отзывов клиентов о магазине, что позволит увеличить количество заказов   \n",
       "4                              Изменить цвет фона главной страницы, чтобы увеличить вовлеченность пользователей   \n",
       "\n",
       "    rice  \n",
       "7  112.0  \n",
       "2   56.0  \n",
       "0   40.0  \n",
       "6   40.0  \n",
       "8   16.2  \n",
       "3    9.0  \n",
       "1    4.0  \n",
       "5    4.0  \n",
       "4    3.0  "
      ]
     },
     "execution_count": 10,
     "metadata": {},
     "output_type": "execute_result"
    }
   ],
   "source": [
    "hypothesis['rice'] = (\n",
    "    hypothesis['reach']*hypothesis['impact']\n",
    "    *hypothesis['confidence']/hypothesis['efforts']\n",
    ")\n",
    "hypothesis[['hypothesis','rice']].sort_values(by='rice',ascending = False)"
   ]
  },
  {
   "cell_type": "markdown",
   "id": "cea2e250",
   "metadata": {},
   "source": [
    "Топ-3 изменился: теперь в нем гипотезы с индексом 7, 2, 0. При чем RICE у лидера с индексом 7 в два раза выше чем у гипотезы с индексом 2."
   ]
  },
  {
   "cell_type": "markdown",
   "id": "23e0a253",
   "metadata": {},
   "source": [
    "### Вывод"
   ]
  },
  {
   "cell_type": "code",
   "execution_count": 11,
   "id": "57e24924",
   "metadata": {},
   "outputs": [
    {
     "name": "stdout",
     "output_type": "stream",
     "text": [
      "Добавить форму подписки на все основные страницы, чтобы собрать базу клиентов для email-рассылок\n"
     ]
    }
   ],
   "source": [
    "print(hypothesis.loc[7,'hypothesis'])"
   ]
  },
  {
   "cell_type": "markdown",
   "id": "696f4e35",
   "metadata": {},
   "source": [
    "Первоначально для приоритизации гипотез использовался фреймфорк ICE, который выявил 3 гипотезы со значением ICE больше 10. При этому выбранная гипотеза с индексом 7 была на третьем месте. После применения фреймфорк ICE, стало понятно, что гипотеза \"Добавить форму подписки на все основные страницы, чтобы собрать базу клиентов для email-рассылок\" является 100% победителем, так как RICE кратно превышает относительно остальных гипотез. Фреймворк RICE позволил учитывать охват пользователей и, исходя из результатов, гипотеза с индексом 7 имеет наибольший охват."
   ]
  },
  {
   "cell_type": "markdown",
   "id": "38f144c3",
   "metadata": {},
   "source": [
    "Для приоритизации гипотез использую фреймворки ICE и RICE, которые оценивают гипотезы по шкале. ICE расчитывается как произведение параметра Impact (влияение) и параметра Confidence (уверенность в оценке остальных параметрах), деленное на параметр Efforts (стоимость тестирования гипотезы). Фреймворк RICE является модификацией ICE, но он дополнительно учитывает параметр Reach (охват). Reach находится в числителе и его умножают на остальные параметры."
   ]
  },
  {
   "cell_type": "markdown",
   "id": "71b960f3",
   "metadata": {},
   "source": [
    "## Анализ A/B-теста"
   ]
  },
  {
   "cell_type": "markdown",
   "id": "bcc6eafc",
   "metadata": {},
   "source": [
    "### Кумулятивная выручка по группам"
   ]
  },
  {
   "cell_type": "code",
   "execution_count": 12,
   "id": "162ff25b",
   "metadata": {},
   "outputs": [
    {
     "data": {
      "text/html": [
       "<div>\n",
       "<style scoped>\n",
       "    .dataframe tbody tr th:only-of-type {\n",
       "        vertical-align: middle;\n",
       "    }\n",
       "\n",
       "    .dataframe tbody tr th {\n",
       "        vertical-align: top;\n",
       "    }\n",
       "\n",
       "    .dataframe thead th {\n",
       "        text-align: right;\n",
       "    }\n",
       "</style>\n",
       "<table border=\"1\" class=\"dataframe\">\n",
       "  <thead>\n",
       "    <tr style=\"text-align: right;\">\n",
       "      <th></th>\n",
       "      <th>date</th>\n",
       "      <th>group</th>\n",
       "      <th>orders</th>\n",
       "      <th>buyers</th>\n",
       "      <th>revenue</th>\n",
       "      <th>visitors</th>\n",
       "    </tr>\n",
       "  </thead>\n",
       "  <tbody>\n",
       "    <tr>\n",
       "      <th>0</th>\n",
       "      <td>2019-08-01</td>\n",
       "      <td>A</td>\n",
       "      <td>23</td>\n",
       "      <td>19</td>\n",
       "      <td>142779</td>\n",
       "      <td>715</td>\n",
       "    </tr>\n",
       "    <tr>\n",
       "      <th>1</th>\n",
       "      <td>2019-08-01</td>\n",
       "      <td>B</td>\n",
       "      <td>17</td>\n",
       "      <td>17</td>\n",
       "      <td>59758</td>\n",
       "      <td>709</td>\n",
       "    </tr>\n",
       "    <tr>\n",
       "      <th>2</th>\n",
       "      <td>2019-08-02</td>\n",
       "      <td>A</td>\n",
       "      <td>42</td>\n",
       "      <td>36</td>\n",
       "      <td>234381</td>\n",
       "      <td>1332</td>\n",
       "    </tr>\n",
       "    <tr>\n",
       "      <th>3</th>\n",
       "      <td>2019-08-02</td>\n",
       "      <td>B</td>\n",
       "      <td>40</td>\n",
       "      <td>39</td>\n",
       "      <td>221801</td>\n",
       "      <td>1288</td>\n",
       "    </tr>\n",
       "    <tr>\n",
       "      <th>4</th>\n",
       "      <td>2019-08-03</td>\n",
       "      <td>A</td>\n",
       "      <td>66</td>\n",
       "      <td>60</td>\n",
       "      <td>346854</td>\n",
       "      <td>1837</td>\n",
       "    </tr>\n",
       "    <tr>\n",
       "      <th>...</th>\n",
       "      <td>...</td>\n",
       "      <td>...</td>\n",
       "      <td>...</td>\n",
       "      <td>...</td>\n",
       "      <td>...</td>\n",
       "      <td>...</td>\n",
       "    </tr>\n",
       "    <tr>\n",
       "      <th>57</th>\n",
       "      <td>2019-08-29</td>\n",
       "      <td>B</td>\n",
       "      <td>510</td>\n",
       "      <td>490</td>\n",
       "      <td>4746610</td>\n",
       "      <td>17569</td>\n",
       "    </tr>\n",
       "    <tr>\n",
       "      <th>58</th>\n",
       "      <td>2019-08-30</td>\n",
       "      <td>A</td>\n",
       "      <td>460</td>\n",
       "      <td>437</td>\n",
       "      <td>3311413</td>\n",
       "      <td>17895</td>\n",
       "    </tr>\n",
       "    <tr>\n",
       "      <th>59</th>\n",
       "      <td>2019-08-30</td>\n",
       "      <td>B</td>\n",
       "      <td>531</td>\n",
       "      <td>511</td>\n",
       "      <td>4955833</td>\n",
       "      <td>18056</td>\n",
       "    </tr>\n",
       "    <tr>\n",
       "      <th>60</th>\n",
       "      <td>2019-08-31</td>\n",
       "      <td>A</td>\n",
       "      <td>468</td>\n",
       "      <td>445</td>\n",
       "      <td>3364656</td>\n",
       "      <td>18589</td>\n",
       "    </tr>\n",
       "    <tr>\n",
       "      <th>61</th>\n",
       "      <td>2019-08-31</td>\n",
       "      <td>B</td>\n",
       "      <td>548</td>\n",
       "      <td>528</td>\n",
       "      <td>5068972</td>\n",
       "      <td>18769</td>\n",
       "    </tr>\n",
       "  </tbody>\n",
       "</table>\n",
       "<p>62 rows × 6 columns</p>\n",
       "</div>"
      ],
      "text/plain": [
       "         date group  orders  buyers  revenue  visitors\n",
       "0  2019-08-01     A      23      19   142779       715\n",
       "1  2019-08-01     B      17      17    59758       709\n",
       "2  2019-08-02     A      42      36   234381      1332\n",
       "3  2019-08-02     B      40      39   221801      1288\n",
       "4  2019-08-03     A      66      60   346854      1837\n",
       "..        ...   ...     ...     ...      ...       ...\n",
       "57 2019-08-29     B     510     490  4746610     17569\n",
       "58 2019-08-30     A     460     437  3311413     17895\n",
       "59 2019-08-30     B     531     511  4955833     18056\n",
       "60 2019-08-31     A     468     445  3364656     18589\n",
       "61 2019-08-31     B     548     528  5068972     18769\n",
       "\n",
       "[62 rows x 6 columns]"
      ]
     },
     "execution_count": 12,
     "metadata": {},
     "output_type": "execute_result"
    }
   ],
   "source": [
    "dates_groups = orders[['date','group']].drop_duplicates()\n",
    "\n",
    "orders_agg = (\n",
    "    dates_groups.apply(lambda x: orders[np.logical_and(orders['date'] <= x['date'], orders['group'] == x['group'])]\n",
    "          .agg({'date':'max','group':'max','transaction_id' : 'nunique','visitor_id':'nunique','revenue':'sum'}),\n",
    "          axis=1)\n",
    "    .sort_values(by=['date','group'])\n",
    ")\n",
    "visitors_agg = (\n",
    "    dates_groups.apply(lambda x: visitors[np.logical_and(visitors['date'] <= x['date'], visitors['group'] == x['group'])]\n",
    "          .agg({'date':'max','group':'max','visitors':'sum'}),\n",
    "          axis=1)\n",
    "    .sort_values(by=['date','group'])\n",
    ")\n",
    "\n",
    "cumulative_data = orders_agg.merge(visitors_agg, left_on = ['date','group'], right_on = ['date','group'])\n",
    "cumulative_data.columns = ['date','group','orders','buyers','revenue','visitors']\n",
    "    \n",
    "cumulative_data"
   ]
  },
  {
   "cell_type": "code",
   "execution_count": 13,
   "id": "1c72dc9c",
   "metadata": {},
   "outputs": [
    {
     "data": {
      "image/png": "[encoded data removed]",
      "text/plain": [
       "<Figure size 1080x504 with 1 Axes>"
      ]
     },
     "metadata": {
      "needs_background": "light"
     },
     "output_type": "display_data"
    }
   ],
   "source": [
    "cumulative_revenue_a = cumulative_data[cumulative_data['group'] == 'A'][['date','revenue','orders']]\n",
    "cumulative_revenue_b = cumulative_data[cumulative_data['group'] == 'B'][['date','revenue','orders']]\n",
    "\n",
    "plt.figure(figsize=(15, 7))\n",
    "plt.plot(cumulative_revenue_a['date'],cumulative_revenue_a['revenue'], label='A')\n",
    "plt.plot(cumulative_revenue_b['date'],cumulative_revenue_b['revenue'], label='B')\n",
    "plt.xlabel('Дата')\n",
    "plt.ylabel('Кумулятивная выручка')\n",
    "plt.title('Кумулятивная выручка по группам')\n",
    "\n",
    "plt.legend();"
   ]
  },
  {
   "cell_type": "markdown",
   "id": "0e645983",
   "metadata": {},
   "source": [
    "Выручка у обеих групп растет. После 2019-08-05 группа B лидирует над группой А по выручке. После 19.08.2021 группы В значительно увеличила разрыва с группой А. У обеих групп видны всплески: у группы А между 11 и 12 августа 2019, у группы В между 18 и 19 августа 2019. "
   ]
  },
  {
   "cell_type": "markdown",
   "id": "dfc9a913",
   "metadata": {},
   "source": [
    "### Кумулятивный средний чек по группам"
   ]
  },
  {
   "cell_type": "code",
   "execution_count": 14,
   "id": "26114521",
   "metadata": {},
   "outputs": [
    {
     "data": {
      "text/plain": [
       "<matplotlib.legend.Legend at 0x232a11bab50>"
      ]
     },
     "execution_count": 14,
     "metadata": {},
     "output_type": "execute_result"
    },
    {
     "data": {
      "image/png": "[encoded data removed]",
      "text/plain": [
       "<Figure size 1080x504 with 1 Axes>"
      ]
     },
     "metadata": {
      "needs_background": "light"
     },
     "output_type": "display_data"
    }
   ],
   "source": [
    "plt.figure(figsize=(15, 7))\n",
    "plt.plot(cumulative_revenue_a['date'],cumulative_revenue_a['revenue']/cumulative_revenue_a['orders'], label='A')\n",
    "plt.plot(cumulative_revenue_b['date'],cumulative_revenue_b['revenue']/cumulative_revenue_b['orders'], label='B')\n",
    "\n",
    "plt.legend()"
   ]
  },
  {
   "cell_type": "markdown",
   "id": "fd6a045a",
   "metadata": {},
   "source": [
    "По графику видно ,что в начале периода видны большие колебания данных. У группы А средний чек становится стабильным после 14 августа 2021 и находится около 7000. У группы В данные колеблются до 15.08.2021 , но затем происходит резкий скачек с 18 по 19 августа и кривая идёт на понижение. Нельзя сказать однозначно, что кривые стабилизировались к 30.08.2021г, но тенденция к равномерности пристутсвует."
   ]
  },
  {
   "cell_type": "markdown",
   "id": "74109669",
   "metadata": {},
   "source": [
    "### Относительное изменение кумулятивного среднего чека группы B к группе A"
   ]
  },
  {
   "cell_type": "code",
   "execution_count": 15,
   "id": "41bbb0b8",
   "metadata": {},
   "outputs": [
    {
     "data": {
      "text/plain": [
       "<matplotlib.lines.Line2D at 0x232a388a2b0>"
      ]
     },
     "execution_count": 15,
     "metadata": {},
     "output_type": "execute_result"
    },
    {
     "data": {
      "image/png": "[encoded data removed]",
      "text/plain": [
       "<Figure size 1080x504 with 1 Axes>"
      ]
     },
     "metadata": {
      "needs_background": "light"
     },
     "output_type": "display_data"
    }
   ],
   "source": [
    "merged_cumulative_revenue = cumulative_revenue_a.merge(\n",
    "    cumulative_revenue_b, left_on='date', right_on='date', how='left', suffixes = ['A','B']\n",
    ")\n",
    "\n",
    "plt.figure(figsize=(15, 7))\n",
    "plt.plot(merged_cumulative_revenue['date'], (merged_cumulative_revenue['revenueB']/merged_cumulative_revenue['ordersB'])\n",
    "         /(merged_cumulative_revenue['revenueA']/merged_cumulative_revenue['ordersA'])-1)\n",
    "plt.axhline(y=0, color='black', linestyle='--')"
   ]
  },
  {
   "cell_type": "markdown",
   "id": "5363046c",
   "metadata": {},
   "source": [
    "В нескольких точках график различия между группами по среднему чеку \"скачет\". Но большую часть времени средний чек группы В преобладает над средним чеком группы А. Резкие скачки на графике снова указывают на аномально большие заказы."
   ]
  },
  {
   "cell_type": "markdown",
   "id": "59babefe",
   "metadata": {},
   "source": [
    "### Кумулятивная конверсия по группам"
   ]
  },
  {
   "cell_type": "code",
   "execution_count": 16,
   "id": "9d162245",
   "metadata": {},
   "outputs": [
    {
     "data": {
      "text/plain": [
       "(18109.0, 18140.0, 0.0, 0.04)"
      ]
     },
     "execution_count": 16,
     "metadata": {},
     "output_type": "execute_result"
    },
    {
     "data": {
      "image/png": "[encoded data removed]",
      "text/plain": [
       "<Figure size 1080x504 with 1 Axes>"
      ]
     },
     "metadata": {
      "needs_background": "light"
     },
     "output_type": "display_data"
    }
   ],
   "source": [
    "cumulative_data['conversion'] = cumulative_data['orders']/cumulative_data['visitors']\n",
    "\n",
    "cumulative_data_a = cumulative_data[cumulative_data['group'] == 'A']\n",
    "cumulative_data_b = cumulative_data[cumulative_data['group'] == 'B']\n",
    "\n",
    "plt.figure(figsize=(15, 7))\n",
    "plt.plot(cumulative_data_a['date'],cumulative_data_a['conversion'], label='A')\n",
    "plt.plot(cumulative_data_b['date'],cumulative_data_b['conversion'], label='B')\n",
    "plt.legend()\n",
    "\n",
    "plt.axis([dt.datetime.strptime('2019-08-01', '%Y-%m-%d'), dt.datetime.strptime('2019-09-01', '%Y-%m-%d'), 0, 0.04])"
   ]
  },
  {
   "cell_type": "markdown",
   "id": "90c3f683",
   "metadata": {},
   "source": [
    "В первые 5 дней конверсия сильно колебалась в обеих группах, после 07.08.2019 конверсия группы B обогнала конверсию группы А. После этого данные практически стабилизировались: конверсия группы А около 0.025, конверсия группы В около 0.03. "
   ]
  },
  {
   "cell_type": "markdown",
   "id": "374c0f86",
   "metadata": {},
   "source": [
    "### Относительное изменение кумулятивной конверсии группы B к группе A"
   ]
  },
  {
   "cell_type": "code",
   "execution_count": 17,
   "id": "46fc8091",
   "metadata": {},
   "outputs": [
    {
     "data": {
      "text/plain": [
       "(18109.0, 18140.0, -0.4, 0.4)"
      ]
     },
     "execution_count": 17,
     "metadata": {},
     "output_type": "execute_result"
    },
    {
     "data": {
      "image/png": "[encoded data removed]",
      "text/plain": [
       "<Figure size 1080x504 with 1 Axes>"
      ]
     },
     "metadata": {
      "needs_background": "light"
     },
     "output_type": "display_data"
    }
   ],
   "source": [
    "merged_cumulative_conversion = cumulative_data_a[['date','conversion']].merge(\n",
    "    cumulative_data_b[['date','conversion']],left_on='date', right_on='date', how='left', suffixes = ['A','B'] \n",
    ")\n",
    "\n",
    "plt.figure(figsize=(15, 7))\n",
    "plt.plot(merged_cumulative_conversion['date'],\n",
    "         merged_cumulative_conversion['conversionB']/merged_cumulative_conversion['conversionA']-1,\n",
    "         label='Относительный прирост конверсии группы В относительно группы А'\n",
    ")\n",
    "plt.axhline(y=0, color='black', linestyle='--')\n",
    "plt.axhline(y=0.15, color='grey', linestyle='--')\n",
    "\n",
    "\n",
    "plt.axis([dt.datetime.strptime('2019-08-01', '%Y-%m-%d'), dt.datetime.strptime('2019-09-01', '%Y-%m-%d'), -0.4, 0.4])"
   ]
  },
  {
   "cell_type": "markdown",
   "id": "4f7caf5a",
   "metadata": {},
   "source": [
    "Судя по графику, до 06 августа 2019 года группа В значительно проигрывала группе А по конверсии. После этой даты конверсия группы обгоняла группу А и стабилизировалась около 0.15. Нам ещё предстоит провести анлиз аномалий, но на данный момент гипотеза работает."
   ]
  },
  {
   "cell_type": "markdown",
   "id": "94f60a39",
   "metadata": {},
   "source": [
    "### Количество заказов по пользователям"
   ]
  },
  {
   "cell_type": "code",
   "execution_count": 18,
   "id": "5c969388",
   "metadata": {},
   "outputs": [
    {
     "data": {
      "text/html": [
       "<div>\n",
       "<style scoped>\n",
       "    .dataframe tbody tr th:only-of-type {\n",
       "        vertical-align: middle;\n",
       "    }\n",
       "\n",
       "    .dataframe tbody tr th {\n",
       "        vertical-align: top;\n",
       "    }\n",
       "\n",
       "    .dataframe thead th {\n",
       "        text-align: right;\n",
       "    }\n",
       "</style>\n",
       "<table border=\"1\" class=\"dataframe\">\n",
       "  <thead>\n",
       "    <tr style=\"text-align: right;\">\n",
       "      <th></th>\n",
       "      <th>user_id</th>\n",
       "      <th>orders</th>\n",
       "    </tr>\n",
       "  </thead>\n",
       "  <tbody>\n",
       "    <tr>\n",
       "      <th>0</th>\n",
       "      <td>5114589</td>\n",
       "      <td>1</td>\n",
       "    </tr>\n",
       "    <tr>\n",
       "      <th>1</th>\n",
       "      <td>6958315</td>\n",
       "      <td>1</td>\n",
       "    </tr>\n",
       "    <tr>\n",
       "      <th>2</th>\n",
       "      <td>11685486</td>\n",
       "      <td>1</td>\n",
       "    </tr>\n",
       "    <tr>\n",
       "      <th>3</th>\n",
       "      <td>39475350</td>\n",
       "      <td>1</td>\n",
       "    </tr>\n",
       "    <tr>\n",
       "      <th>4</th>\n",
       "      <td>47206413</td>\n",
       "      <td>1</td>\n",
       "    </tr>\n",
       "  </tbody>\n",
       "</table>\n",
       "</div>"
      ],
      "text/plain": [
       "    user_id  orders\n",
       "0   5114589       1\n",
       "1   6958315       1\n",
       "2  11685486       1\n",
       "3  39475350       1\n",
       "4  47206413       1"
      ]
     },
     "execution_count": 18,
     "metadata": {},
     "output_type": "execute_result"
    }
   ],
   "source": [
    "orders_by_users = (\n",
    "    orders.groupby('visitor_id', as_index=False)\n",
    "    .agg({'transaction_id':'nunique'})\n",
    ")\n",
    "orders_by_users.columns = ['user_id','orders']\n",
    "orders_by_users.head()"
   ]
  },
  {
   "cell_type": "code",
   "execution_count": 19,
   "id": "b6724aa2",
   "metadata": {},
   "outputs": [
    {
     "data": {
      "text/plain": [
       "<matplotlib.collections.PathCollection at 0x232a381d9d0>"
      ]
     },
     "execution_count": 19,
     "metadata": {},
     "output_type": "execute_result"
    },
    {
     "data": {
      "image/png": "[encoded data removed]",
      "text/plain": [
       "<Figure size 432x288 with 1 Axes>"
      ]
     },
     "metadata": {
      "needs_background": "light"
     },
     "output_type": "display_data"
    }
   ],
   "source": [
    "x_values = pd.Series(range(0,len(orders_by_users)))\n",
    "plt.scatter(x_values, orders_by_users['orders'])"
   ]
  },
  {
   "cell_type": "markdown",
   "id": "766aac0c",
   "metadata": {},
   "source": [
    "У большинства пользоватлей по одному заказу, есть пользователи с двумя заказами. Пользователи с 3 заказами являются редкостью, скорее всего это \"аномальные\" пользователи. Возможно пользователи с 2 заказами, тоже станут \"аномальными\", но пока об этом говорить рано."
   ]
  },
  {
   "cell_type": "markdown",
   "id": "7852b3f7",
   "metadata": {},
   "source": [
    "### 95-й и 99-й перцентили количества заказов на пользователя. Аномальные пользователи"
   ]
  },
  {
   "cell_type": "code",
   "execution_count": 20,
   "id": "009d0b63",
   "metadata": {},
   "outputs": [
    {
     "name": "stdout",
     "output_type": "stream",
     "text": [
      "[1. 1. 2.]\n"
     ]
    }
   ],
   "source": [
    "print(np.percentile(orders_by_users['orders'],[90, 95, 99]))"
   ]
  },
  {
   "cell_type": "markdown",
   "id": "e69df9a2",
   "metadata": {},
   "source": [
    "Только у 1% пользователей больше 1 заказа. Аномальные заказами будем считать заказы равные 2 и более."
   ]
  },
  {
   "cell_type": "markdown",
   "id": "5331b448",
   "metadata": {},
   "source": [
    "### Точечный график стоимостей заказов"
   ]
  },
  {
   "cell_type": "code",
   "execution_count": 21,
   "id": "afa2431f",
   "metadata": {},
   "outputs": [
    {
     "data": {
      "text/plain": [
       "<matplotlib.collections.PathCollection at 0x232a38e03d0>"
      ]
     },
     "execution_count": 21,
     "metadata": {},
     "output_type": "execute_result"
    },
    {
     "data": {
      "image/png": "[encoded data removed]",
      "text/plain": [
       "<Figure size 432x288 with 1 Axes>"
      ]
     },
     "metadata": {
      "needs_background": "light"
     },
     "output_type": "display_data"
    }
   ],
   "source": [
    "x_values = pd.Series(range(0,len(orders['revenue'])))\n",
    "plt.scatter(x_values, orders['revenue'])"
   ]
  },
  {
   "cell_type": "markdown",
   "id": "86a469a8",
   "metadata": {},
   "source": [
    "На первый взгляд мы видим две явные аномалии: две точки около 1,3 млн. и около 200 тыс. У большинства стоимость заказа составляла менее 100 тыс. Возможно, К аномалиям будут отнесены значения и меньше."
   ]
  },
  {
   "cell_type": "markdown",
   "id": "dee26879",
   "metadata": {},
   "source": [
    "###  95-й и 99-й перцентили стоимости заказов. Аномальные заказы"
   ]
  },
  {
   "cell_type": "code",
   "execution_count": 22,
   "id": "dfeebe77",
   "metadata": {},
   "outputs": [
    {
     "name": "stdout",
     "output_type": "stream",
     "text": [
      "[17990. 26785. 53904.]\n"
     ]
    }
   ],
   "source": [
    "print(np.percentile(orders['revenue'],[90, 95, 99]))"
   ]
  },
  {
   "cell_type": "markdown",
   "id": "86a66eab",
   "metadata": {},
   "source": [
    "У 90% пользователей стоимость заказа не доходит до 18 тыс. К аномалиям отнесем заказы 1-5%, а именно свыше 30000."
   ]
  },
  {
   "cell_type": "markdown",
   "id": "f2b771b8",
   "metadata": {},
   "source": [
    "### Статистическая значимость различий в среднем количестве заказов между группами по «сырым» данным"
   ]
  },
  {
   "cell_type": "markdown",
   "id": "bf30281a",
   "metadata": {},
   "source": [
    "Прежде всего сформулируем гипотезу.  \n",
    "Нулевая гипотеза: различий в среднем количестве заказов между группами нет.  \n",
    "Алтернативная гипотеза: различия в среднем чеке между группами есть."
   ]
  },
  {
   "cell_type": "code",
   "execution_count": 23,
   "id": "b3cee650",
   "metadata": {},
   "outputs": [],
   "source": [
    "#Отфильтруем пользователей по группам\n",
    "visitors_a = visitors[visitors['group'] == 'A']\n",
    "visitors_b = visitors[visitors['group'] == 'B']\n",
    "\n",
    "#Сгруппируем уникальные заказы по покупателям\n",
    "orders_by_users_a = (\n",
    "    orders[orders['group'] == 'A']\n",
    "    .groupby('visitor_id', as_index=False)\n",
    "    .agg({'transaction_id':'nunique'})\n",
    ")\n",
    "orders_by_users_a.columns = ['user_id','orders']\n",
    "\n",
    "orders_by_users_b = (\n",
    "    orders[orders['group'] == 'B']\n",
    "    .groupby('visitor_id', as_index=False)\n",
    "    .agg({'transaction_id':'nunique'})\n",
    ")\n",
    "orders_by_users_b.columns = ['user_id','orders']"
   ]
  },
  {
   "cell_type": "code",
   "execution_count": 24,
   "id": "cfc7e9f7",
   "metadata": {},
   "outputs": [
    {
     "name": "stdout",
     "output_type": "stream",
     "text": [
      "P-value: 0.011047912824911445\n",
      "Относительный прирост среднего чего группы В относительно группы А: 0.160\n"
     ]
    }
   ],
   "source": [
    "#Объявим переменные, в которых пользователи из разных групп будет соответствовать количество заказов.\n",
    "#Для тех, кто ничего не заказывал, значение \"количество заказов\" будет равно 0.\n",
    "sample_a = pd.concat(\n",
    "    [\n",
    "        orders_by_users_a['orders'],\n",
    "        pd.Series(\n",
    "            0,\n",
    "            index=np.arange(\n",
    "                visitors_a['visitors'].sum()-len(orders_by_users_a['orders'])\n",
    "            ),\n",
    "            name = 'orders'\n",
    "        ),\n",
    "    ],\n",
    "    axis=0\n",
    ")\n",
    "\n",
    "sample_b = pd.concat(\n",
    "    [\n",
    "        orders_by_users_b['orders'],\n",
    "        pd.Series(\n",
    "            0,\n",
    "            index=np.arange(\n",
    "                visitors_b['visitors'].sum()-len(orders_by_users_b['orders'])\n",
    "            ),\n",
    "            name = 'orders'\n",
    "        ),\n",
    "    ],\n",
    "    axis=0\n",
    ")\n",
    "\n",
    "print('P-value:',stats.mannwhitneyu(sample_a, sample_b)[1])\n",
    "print('Относительный прирост среднего чего группы В относительно группы А: {0:.3f}'.format(sample_b.mean()/sample_a.mean() - 1))"
   ]
  },
  {
   "cell_type": "markdown",
   "id": "547177ea",
   "metadata": {},
   "source": [
    "Исходя из \"сырых\" данных, можно сделать вывод, что нулевую гипотезу можно отвергнуть. P-значение составило 0.011, что меньше статистической значимости в 0.05.  \n",
    "Относительный выигрыш группы В по количеству заказов относительно группы А составил 16%."
   ]
  },
  {
   "cell_type": "markdown",
   "id": "ff47ef08",
   "metadata": {},
   "source": [
    "### Статистическая значимость различий в среднем чеке заказа между группами по «сырым» данным"
   ]
  },
  {
   "cell_type": "markdown",
   "id": "c0a93646",
   "metadata": {},
   "source": [
    "Прежде всего сформулируем гипотезу.  \n",
    "Нулевая гипотеза: различий в среднем количестве заказов между группами нет.  \n",
    "Алтернативная гипотеза: различия в среднем чеке между группами есть."
   ]
  },
  {
   "cell_type": "code",
   "execution_count": 25,
   "id": "e65fc15d",
   "metadata": {},
   "outputs": [
    {
     "name": "stdout",
     "output_type": "stream",
     "text": [
      "0.829\n",
      "0.287\n"
     ]
    }
   ],
   "source": [
    "print('{0:.3f}'.format(\n",
    "    stats.mannwhitneyu(orders[orders['group'] == 'A']['revenue'],orders[orders['group'] == 'B']['revenue'])[1]))\n",
    "print('{0:.3f}'.format(orders[orders['group'] == 'B']['revenue'].mean()/orders[orders['group'] == 'A']['revenue'].mean()-1))"
   ]
  },
  {
   "cell_type": "markdown",
   "id": "507fda7e",
   "metadata": {},
   "source": [
    "Оснований отвергать нулевую гипотезу нет, так как статистическая значимость не достигнута: значение Р-значения 0.829 больше 0.05. Другими словами, статистически значимых различий в среднем чеке между группами нет.  \n",
    "При этом относительный выигрыш группы В относительно группы А составил 28.7%."
   ]
  },
  {
   "cell_type": "markdown",
   "id": "775f0a91",
   "metadata": {},
   "source": [
    "### Статистическая значимость различий в среднем количестве заказов между группами по «очищенным» данным"
   ]
  },
  {
   "cell_type": "code",
   "execution_count": 26,
   "id": "068e9d66",
   "metadata": {},
   "outputs": [],
   "source": [
    "#Примем переменны для сверхбольшого количества заказов и сверхдорого заказа\n",
    "ab_order = 1\n",
    "ab_cost = 30000"
   ]
  },
  {
   "cell_type": "code",
   "execution_count": 27,
   "id": "13a2643c",
   "metadata": {},
   "outputs": [
    {
     "data": {
      "text/plain": [
       "36      366673373\n",
       "58      611059232\n",
       "64      678354126\n",
       "72      759473111\n",
       "171    1617417821\n",
       "dtype: int64"
      ]
     },
     "metadata": {},
     "output_type": "display_data"
    },
    {
     "name": "stdout",
     "output_type": "stream",
     "text": [
      "Количетсво аномальных пользователей: 78\n"
     ]
    }
   ],
   "source": [
    "#Определим аномальных пользователей\n",
    "\n",
    "users_too_much_orders = pd.concat(\n",
    "    [\n",
    "        orders_by_users_a[orders_by_users_a['orders']>ab_order]['user_id'],\n",
    "        orders_by_users_b[orders_by_users_b['orders']>ab_order]['user_id']\n",
    "    ],\n",
    "    axis=0,\n",
    ")\n",
    "\n",
    "users_too_expensive_orders = orders[orders['revenue']>ab_cost]['visitor_id']\n",
    "\n",
    "abnormal_users = (\n",
    "    pd.concat([users_too_much_orders, users_too_expensive_orders],axis=0)\n",
    ")\n",
    "\n",
    "display(abnormal_users.head())\n",
    "print('Количетсво аномальных пользователей:', abnormal_users.shape[0])"
   ]
  },
  {
   "cell_type": "code",
   "execution_count": 28,
   "id": "86f845e6",
   "metadata": {},
   "outputs": [
    {
     "name": "stdout",
     "output_type": "stream",
     "text": [
      "0.013\n",
      "0.180\n"
     ]
    }
   ],
   "source": [
    "sample_a_filtr = pd.concat(\n",
    "    [\n",
    "        orders_by_users_a[\n",
    "            np.logical_not(orders_by_users_a['user_id'].isin(abnormal_users))\n",
    "        ]['orders'],\n",
    "        pd.Series(\n",
    "            0,\n",
    "            index=np.arange(\n",
    "                visitors_a['visitors'].sum()-len(orders_by_users_a['orders'])\n",
    "            ),\n",
    "            name = 'orders'\n",
    "        ),\n",
    "    ],\n",
    "    axis=0\n",
    ")\n",
    "\n",
    "sample_b_filtr = pd.concat(\n",
    "    [\n",
    "        orders_by_users_b[\n",
    "            np.logical_not(orders_by_users_b['user_id'].isin(abnormal_users))\n",
    "        ]['orders'],\n",
    "        pd.Series(\n",
    "            0,\n",
    "            index=np.arange(\n",
    "                visitors_b['visitors'].sum()-len(orders_by_users_b['orders'])\n",
    "            ),\n",
    "            name = 'orders'\n",
    "        ),\n",
    "    ],\n",
    "    axis=0\n",
    ")\n",
    "\n",
    "print('{0:.3f}'.format(stats.mannwhitneyu(sample_a_filtr, sample_b_filtr)[1]))\n",
    "print('{0:.3f}'.format(sample_b_filtr.mean()/sample_a_filtr.mean() - 1))"
   ]
  },
  {
   "cell_type": "markdown",
   "id": "f7891d7f",
   "metadata": {},
   "source": [
    "Результат после очитски от аномалий не изменился: p-значение < статистической значимости. Гипотезу об отсутствии различий отвергаем.  \n",
    "Выигрыш по количеству заказов группы В увеличился до 18% относительно группы А."
   ]
  },
  {
   "cell_type": "markdown",
   "id": "ef6dfc6f",
   "metadata": {},
   "source": [
    "### Статистическая значимость различий в среднем чеке заказа между группами по «очищенным» данным"
   ]
  },
  {
   "cell_type": "code",
   "execution_count": 29,
   "id": "3652f9df",
   "metadata": {},
   "outputs": [
    {
     "name": "stdout",
     "output_type": "stream",
     "text": [
      "0.829\n",
      "0.011\n"
     ]
    }
   ],
   "source": [
    "print(\n",
    "    '{:.3f}'.format(\n",
    "        stats.mannwhitneyu(\n",
    "            orders[\n",
    "                np.logical_and(\n",
    "                    orders['group'] == 'A',\n",
    "                    np.logical_not(orders['visitor_id'].isin(abnormal_users)),\n",
    "                )\n",
    "            ]['revenue'],\n",
    "            orders[\n",
    "                np.logical_and(\n",
    "                    orders['group'] == 'B',\n",
    "                    np.logical_not(orders['visitor_id'].isin(abnormal_users)),\n",
    "                )\n",
    "            ]['revenue']\n",
    "        )[1]\n",
    "    )\n",
    ")\n",
    "\n",
    "print(\n",
    "    '{:.3f}'.format(\n",
    "        orders[\n",
    "            np.logical_and(\n",
    "                orders['group'] == 'A',\n",
    "                np.logical_not(orders['visitor_id'].isin(abnormal_users)),\n",
    "            )\n",
    "        ]['revenue'].mean()\n",
    "        /orders[\n",
    "            np.logical_and(\n",
    "                orders['group'] == 'B',\n",
    "                np.logical_not(orders['visitor_id'].isin(abnormal_users)),\n",
    "            )\n",
    "        ]['revenue'].mean()\n",
    "        -1\n",
    "    )\n",
    ")"
   ]
  },
  {
   "cell_type": "markdown",
   "id": "79cefbc1",
   "metadata": {},
   "source": [
    "После очистки данных, выявили выигрыш по среднему чеку группы В относительно группы А в 1.1%.  \n",
    "Судя по Р-значению, равному 0.829, это не явлется значимой разницей, так как не достигло статистической значимости в 0.05. Основания для отвергания нулевой гипотезы нет."
   ]
  },
  {
   "cell_type": "markdown",
   "id": "9170dea1",
   "metadata": {},
   "source": [
    "## Выводы"
   ]
  },
  {
   "cell_type": "markdown",
   "id": "9120cf43",
   "metadata": {},
   "source": [
    "- График различия среднего чека между группами сообщает, что результаты группы В лучше группы А, но есть тенденция к спаду.\n",
    "- График различия конверсии между группами демонстрирует, что результаты группы B улучшались с каждым днем и стабилизировались на 15% относительно группы А.\n",
    "- Статистическая значимость различий в среднем количестве заказов между группами по \"сырым\" и «очищенным» данным присутствует. Выигрыш группы В относительно группа А по \"очищенным\" данным составил 28.7%\n",
    "- Статистическая значимость различий в среднем чеке заказа между группами по \"сырым\" и «очищенным» данным отсутствует.\n",
    "\n",
    "\n",
    "Исходя из обнаруженных фактов, тест следует остановить и признать его успешным. Можно полагать, что применив гипотезу «Добавить форму подписки на все основные страницы, чтобы собрать базу клиентов для email-рассылок», компания не увеличит средний чек, но значительно повысит конверсию продаж. \n"
   ]
  }
 ],
 "metadata": {
  "ExecuteTimeLog": [
   {
    "duration": 7,
    "start_time": "2022-10-29T15:19:33.986Z"
   },
   {
    "duration": 78,
    "start_time": "2022-10-29T15:19:33.995Z"
   },
   {
    "duration": 42,
    "start_time": "2022-10-29T15:19:34.075Z"
   },
   {
    "duration": 4,
    "start_time": "2022-10-29T15:19:34.118Z"
   },
   {
    "duration": 6,
    "start_time": "2022-10-29T15:19:34.124Z"
   },
   {
    "duration": 18,
    "start_time": "2022-10-29T15:19:34.132Z"
   },
   {
    "duration": 17,
    "start_time": "2022-10-29T15:19:34.151Z"
   },
   {
    "duration": 21,
    "start_time": "2022-10-29T15:19:34.169Z"
   },
   {
    "duration": 7,
    "start_time": "2022-10-29T15:19:34.191Z"
   },
   {
    "duration": 13,
    "start_time": "2022-10-29T15:19:34.199Z"
   },
   {
    "duration": 26,
    "start_time": "2022-10-29T15:19:34.213Z"
   },
   {
    "duration": 307,
    "start_time": "2022-10-29T15:19:34.240Z"
   },
   {
    "duration": 221,
    "start_time": "2022-10-29T15:19:34.548Z"
   },
   {
    "duration": 284,
    "start_time": "2022-10-29T15:19:34.771Z"
   },
   {
    "duration": 332,
    "start_time": "2022-10-29T15:19:35.057Z"
   },
   {
    "duration": 233,
    "start_time": "2022-10-29T15:19:35.390Z"
   },
   {
    "duration": 336,
    "start_time": "2022-10-29T15:19:35.624Z"
   },
   {
    "duration": 9,
    "start_time": "2022-10-29T15:19:35.962Z"
   },
   {
    "duration": 147,
    "start_time": "2022-10-29T15:19:35.973Z"
   },
   {
    "duration": 15,
    "start_time": "2022-10-29T15:19:36.122Z"
   },
   {
    "duration": 134,
    "start_time": "2022-10-29T15:19:36.139Z"
   },
   {
    "duration": 5,
    "start_time": "2022-10-29T15:19:36.274Z"
   },
   {
    "duration": 16,
    "start_time": "2022-10-29T15:19:36.281Z"
   },
   {
    "duration": 66,
    "start_time": "2022-10-29T15:19:36.299Z"
   },
   {
    "duration": 11,
    "start_time": "2022-10-29T15:19:36.367Z"
   },
   {
    "duration": 12,
    "start_time": "2022-10-29T15:19:36.379Z"
   },
   {
    "duration": 51,
    "start_time": "2022-10-29T15:19:36.393Z"
   },
   {
    "duration": 13,
    "start_time": "2022-10-29T15:19:36.446Z"
   },
   {
    "duration": 57,
    "start_time": "2022-10-29T16:47:08.480Z"
   },
   {
    "duration": 1292,
    "start_time": "2022-10-29T16:47:18.021Z"
   },
   {
    "duration": 191,
    "start_time": "2022-10-29T16:47:19.315Z"
   },
   {
    "duration": 52,
    "start_time": "2022-10-29T16:47:19.508Z"
   },
   {
    "duration": 5,
    "start_time": "2022-10-29T16:47:19.562Z"
   },
   {
    "duration": 14,
    "start_time": "2022-10-29T16:47:19.569Z"
   },
   {
    "duration": 32,
    "start_time": "2022-10-29T16:47:19.585Z"
   },
   {
    "duration": 16,
    "start_time": "2022-10-29T16:47:19.638Z"
   },
   {
    "duration": 31,
    "start_time": "2022-10-29T16:47:19.656Z"
   },
   {
    "duration": 11,
    "start_time": "2022-10-29T16:47:19.688Z"
   },
   {
    "duration": 10,
    "start_time": "2022-10-29T16:47:19.701Z"
   },
   {
    "duration": 4,
    "start_time": "2022-10-29T16:47:19.739Z"
   },
   {
    "duration": 308,
    "start_time": "2022-10-29T16:47:19.745Z"
   },
   {
    "duration": 305,
    "start_time": "2022-10-29T16:47:20.055Z"
   },
   {
    "duration": 223,
    "start_time": "2022-10-29T16:47:20.363Z"
   },
   {
    "duration": 325,
    "start_time": "2022-10-29T16:47:20.587Z"
   },
   {
    "duration": 218,
    "start_time": "2022-10-29T16:47:20.914Z"
   },
   {
    "duration": 329,
    "start_time": "2022-10-29T16:47:21.133Z"
   },
   {
    "duration": 10,
    "start_time": "2022-10-29T16:47:21.464Z"
   },
   {
    "duration": 160,
    "start_time": "2022-10-29T16:47:21.476Z"
   },
   {
    "duration": 4,
    "start_time": "2022-10-29T16:47:21.637Z"
   },
   {
    "duration": 135,
    "start_time": "2022-10-29T16:47:21.643Z"
   },
   {
    "duration": 4,
    "start_time": "2022-10-29T16:47:21.780Z"
   },
   {
    "duration": 15,
    "start_time": "2022-10-29T16:47:21.786Z"
   },
   {
    "duration": 48,
    "start_time": "2022-10-29T16:47:21.802Z"
   },
   {
    "duration": 9,
    "start_time": "2022-10-29T16:47:21.852Z"
   },
   {
    "duration": 11,
    "start_time": "2022-10-29T16:47:21.863Z"
   },
   {
    "duration": 33,
    "start_time": "2022-10-29T16:47:21.875Z"
   },
   {
    "duration": 39,
    "start_time": "2022-10-29T16:47:21.909Z"
   },
   {
    "duration": 11,
    "start_time": "2022-10-29T16:49:06.160Z"
   },
   {
    "duration": 200,
    "start_time": "2022-10-29T16:50:21.428Z"
   },
   {
    "duration": 338,
    "start_time": "2022-10-29T16:51:49.914Z"
   },
   {
    "duration": 6,
    "start_time": "2022-10-29T16:55:02.778Z"
   },
   {
    "duration": 26,
    "start_time": "2022-10-29T16:55:08.177Z"
   },
   {
    "duration": 2,
    "start_time": "2022-10-29T16:59:46.617Z"
   },
   {
    "duration": 9,
    "start_time": "2022-10-29T17:00:14.349Z"
   },
   {
    "duration": 1035,
    "start_time": "2022-10-29T19:14:31.140Z"
   },
   {
    "duration": 75,
    "start_time": "2022-10-29T19:14:32.176Z"
   },
   {
    "duration": 43,
    "start_time": "2022-10-29T19:14:32.253Z"
   },
   {
    "duration": 4,
    "start_time": "2022-10-29T19:14:32.297Z"
   },
   {
    "duration": 4,
    "start_time": "2022-10-29T19:14:32.303Z"
   },
   {
    "duration": 20,
    "start_time": "2022-10-29T19:14:32.308Z"
   },
   {
    "duration": 11,
    "start_time": "2022-10-29T19:14:32.329Z"
   },
   {
    "duration": 50,
    "start_time": "2022-10-29T19:14:32.342Z"
   },
   {
    "duration": 11,
    "start_time": "2022-10-29T19:14:32.394Z"
   },
   {
    "duration": 12,
    "start_time": "2022-10-29T19:14:32.407Z"
   },
   {
    "duration": 6,
    "start_time": "2022-10-29T19:14:32.421Z"
   },
   {
    "duration": 303,
    "start_time": "2022-10-29T19:14:32.429Z"
   },
   {
    "duration": 295,
    "start_time": "2022-10-29T19:14:32.734Z"
   },
   {
    "duration": 206,
    "start_time": "2022-10-29T19:14:33.032Z"
   },
   {
    "duration": 256,
    "start_time": "2022-10-29T19:14:33.240Z"
   },
   {
    "duration": 228,
    "start_time": "2022-10-29T19:14:33.498Z"
   },
   {
    "duration": 285,
    "start_time": "2022-10-29T19:14:33.728Z"
   },
   {
    "duration": 10,
    "start_time": "2022-10-29T19:14:34.015Z"
   },
   {
    "duration": 146,
    "start_time": "2022-10-29T19:14:34.026Z"
   },
   {
    "duration": 4,
    "start_time": "2022-10-29T19:14:34.173Z"
   },
   {
    "duration": 134,
    "start_time": "2022-10-29T19:14:34.178Z"
   },
   {
    "duration": 4,
    "start_time": "2022-10-29T19:14:34.314Z"
   },
   {
    "duration": 13,
    "start_time": "2022-10-29T19:14:34.320Z"
   },
   {
    "duration": 25,
    "start_time": "2022-10-29T19:14:34.334Z"
   },
   {
    "duration": 38,
    "start_time": "2022-10-29T19:14:34.361Z"
   },
   {
    "duration": 9,
    "start_time": "2022-10-29T19:14:34.402Z"
   },
   {
    "duration": 12,
    "start_time": "2022-10-29T19:14:34.413Z"
   },
   {
    "duration": 26,
    "start_time": "2022-10-29T19:14:34.427Z"
   },
   {
    "duration": 40,
    "start_time": "2022-10-29T19:14:34.455Z"
   }
  ],
  "kernelspec": {
   "display_name": "Python 3 (ipykernel)",
   "language": "python",
   "name": "python3"
  },
  "language_info": {
   "codemirror_mode": {
    "name": "ipython",
    "version": 3
   },
   "file_extension": ".py",
   "mimetype": "text/x-python",
   "name": "python",
   "nbconvert_exporter": "python",
   "pygments_lexer": "ipython3",
   "version": "3.9.13"
  },
  "toc": {
   "base_numbering": 1,
   "nav_menu": {},
   "number_sections": true,
   "sideBar": true,
   "skip_h1_title": true,
   "title_cell": "Table of Contents",
   "title_sidebar": "Contents",
   "toc_cell": false,
   "toc_position": {},
   "toc_section_display": true,
   "toc_window_display": false
  }
 },
 "nbformat": 4,
 "nbformat_minor": 5
}
